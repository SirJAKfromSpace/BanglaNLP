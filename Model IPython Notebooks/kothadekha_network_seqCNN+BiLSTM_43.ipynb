{
 "cells": [
  {
   "cell_type": "code",
   "execution_count": 38,
   "metadata": {},
   "outputs": [],
   "source": [
    "import torch\n",
    "import torch.nn as nn\n",
    "import torch.nn.functional as F\n",
    "from torch.autograd import Variable\n",
    "import matplotlib.pyplot as plt\n",
    "\n",
    "#custom Kothadekh\n",
    "from data_dataloader import get_loaders\n",
    "from data_dekhabet import convertTokens2Dekhabet"
   ]
  },
  {
   "cell_type": "markdown",
   "metadata": {},
   "source": [
    "# Bi-LSTM Component"
   ]
  },
  {
   "cell_type": "code",
   "execution_count": 43,
   "metadata": {},
   "outputs": [],
   "source": [
    "#Bi-LSTM borrowed fom https://github.com/meijieru/crnn.pytorch/blob/master/models/crnn.py\n",
    "class BidirectionalLSTM(nn.Module):\n",
    "\n",
    "    def __init__(self, nIn, nHidden, nOut):\n",
    "        super(BidirectionalLSTM, self).__init__()\n",
    "\n",
    "        self.rnn = nn.LSTM(nIn, nHidden, bidirectional=True)\n",
    "        self.embedding = nn.Linear(nHidden * 2, nOut)\n",
    "\n",
    "    def forward(self, input):\n",
    "        recurrent, _ = self.rnn(input)\n",
    "        T, b, h = recurrent.size()\n",
    "        t_rec = recurrent.view(T * b, h)\n",
    "\n",
    "        output = self.embedding(t_rec)  # [T * b, nOut]\n",
    "        output = output.view(T, b, -1)\n",
    "\n",
    "        return output"
   ]
  },
  {
   "cell_type": "markdown",
   "metadata": {},
   "source": [
    "# R-CNN Component"
   ]
  },
  {
   "cell_type": "code",
   "execution_count": 46,
   "metadata": {},
   "outputs": [],
   "source": [
    "class R_CNN(nn.Module):\n",
    "\n",
    "    def __init__(self, train=True):\n",
    "        super(R_CNN, self).__init__()\n",
    "\n",
    "        in_nc = 3\n",
    "        nf = 64\n",
    "        hdn = 256\n",
    "        nclass = 22 #dekhabet class\n",
    "        \n",
    "        \n",
    "        # custom vesion of the CNN poposed \n",
    "        # here: https://arxiv.org/pdf/1507.05717.pdf\n",
    "        self.convs = nn.Sequential(\n",
    "            \n",
    "            nn.Conv2d(in_nc, nf, 3, 1, 1),                                                                                                                 \n",
    "            nn.LeakyReLU(0.2, True),\n",
    "            nn.MaxPool2d(2, 2), \n",
    "            \n",
    "            nn.Conv2d(nf, nf*2, 3, 1, 1), \n",
    "            nn.LeakyReLU(0.2, True),\n",
    "            nn.MaxPool2d(2,2), \n",
    "            \n",
    "            nn.Conv2d(nf*2, nf*4, 3, 1, 1), \n",
    "            nn.BatchNorm2d(nf*4),\n",
    "            \n",
    "            nn.Conv2d(nf*4, nf*4, 3, 1, 1), \n",
    "            nn.LeakyReLU(0.2, True),\n",
    "            nn.MaxPool2d((2,1),(2,1)), \n",
    "            \n",
    "            \n",
    "            nn.Conv2d(nf*4, nf*4, 3, 1, 1), \n",
    "            nn.LeakyReLU(0.2, True),\n",
    "            nn.MaxPool2d((1,21),(2,1)),\n",
    "            \n",
    "            \n",
    "            nn.Conv2d(nf*4, nf*8, 3, 1, 1), \n",
    "            nn.BatchNorm2d(nf*8),\n",
    "            \n",
    "            \n",
    "            nn.Conv2d(nf*8, nf*8, 3, 1, 1), \n",
    "            nn.LeakyReLU(0.2, True),\n",
    "            nn.MaxPool2d((2,1),(2,1)),\n",
    "            \n",
    "            \n",
    "            nn.Conv2d(nf*8, nf*8, 3, 1, 1), \n",
    "            nn.LeakyReLU(0.2, True),\n",
    "            nn.MaxPool2d((2, 1),(2,1)),  \n",
    "            \n",
    "            nn.Conv2d(nf*8, nf*8, 2, 1,0), \n",
    "            \n",
    "            \n",
    "        )\n",
    "        \n",
    "        self.bilstm = nn.Sequential(\n",
    "                        BidirectionalLSTM(nf*8, hdn, hdn),\n",
    "                        BidirectionalLSTM(hdn, hdn, nclass),\n",
    "                    )\n",
    "        \n",
    "        self.lgsftMx = nn.LogSoftmax(dim=2)\n",
    "        self.sftMx = nn.Softmax(dim=2)\n",
    "        \n",
    "    def forward(self, x):\n",
    "\n",
    "        out = self.convs(x)\n",
    "        out = out.squeeze(2)\n",
    "        out = out.permute(2, 0, 1) #ctc expects [width,batch,label]\n",
    "        \n",
    "        \n",
    "        out = self.bilstm(out)\n",
    "        \n",
    "        if(self.train):\n",
    "            out = self.lgsftMx(out)\n",
    "        else:\n",
    "            out = self.sftMx(out)\n",
    "            \n",
    "        \n",
    "        \n",
    "        return out\n"
   ]
  },
  {
   "cell_type": "markdown",
   "metadata": {},
   "source": [
    "# Initiate Model And Loss"
   ]
  },
  {
   "cell_type": "code",
   "execution_count": 42,
   "metadata": {},
   "outputs": [
    {
     "name": "stdout",
     "output_type": "stream",
     "text": [
      "cuda:0\n"
     ]
    }
   ],
   "source": [
    "device = torch.device(\"cuda:0\" if torch.cuda.is_available() else \"cpu\")\n",
    "print(device)\n",
    "\n",
    "model = R_CNN()\n",
    "model = model.to(device)\n",
    "\n",
    "criterion = nn.CTCLoss().to(device)\n",
    "# optimizer = torch.optim.Adam(model.parameters(), lr=0.0001, betas=(0.5, 0.999))\n",
    "\n",
    "optimizer = torch.optim.RMSprop(model.parameters(), lr=0.0001)\n"
   ]
  },
  {
   "cell_type": "markdown",
   "metadata": {},
   "source": [
    "# Getting The Data"
   ]
  },
  {
   "cell_type": "code",
   "execution_count": 20,
   "metadata": {},
   "outputs": [
    {
     "name": "stdout",
     "output_type": "stream",
     "text": [
      "2000 images from the dataset\n",
      "1600 400\n"
     ]
    }
   ],
   "source": [
    "batch_size= 25\n",
    "\n",
    "path = '2k2sec_22class'\n",
    "trainloader, validloader = get_loaders(path,split_perc=0.8,batch_size=batch_size)\n",
    "\n",
    "total_step = len(trainloader)\n",
    "trainiter = iter(trainloader)"
   ]
  },
  {
   "cell_type": "markdown",
   "metadata": {},
   "source": [
    "# Training"
   ]
  },
  {
   "cell_type": "code",
   "execution_count": 11,
   "metadata": {},
   "outputs": [],
   "source": [
    "ctc_loss_list = []\n",
    "acc_list = []\n",
    "\n",
    "num_epochs = 2500\n"
   ]
  },
  {
   "cell_type": "code",
   "execution_count": 13,
   "metadata": {},
   "outputs": [
    {
     "name": "stdout",
     "output_type": "stream",
     "text": [
      "Epoch No [10/2500]  0.0903\n",
      "Epoch No [20/2500]  0.0724\n",
      "Epoch No [30/2500]  0.0591\n",
      "Epoch No [40/2500]  0.0464\n",
      "Epoch No [50/2500]  0.0381\n",
      "Epoch No [60/2500]  0.0254\n",
      "Epoch No [70/2500]  0.0180\n",
      "Epoch No [80/2500]  0.0155\n",
      "Epoch No [90/2500]  0.0060\n",
      "Epoch No [100/2500]  0.0036\n",
      "Epoch No 100  reached saving model\n",
      "Epoch No [110/2500]  0.0009\n",
      "Epoch No [120/2500]  -0.0033\n",
      "Epoch No [130/2500]  -0.0057\n",
      "Epoch No [140/2500]  -0.0059\n",
      "Epoch No [150/2500]  -0.0084\n",
      "Epoch No [160/2500]  -0.0093\n",
      "Epoch No [170/2500]  -0.0105\n",
      "Epoch No [180/2500]  -0.0105\n",
      "Epoch No [190/2500]  -0.0126\n",
      "Epoch No [200/2500]  -0.0128\n",
      "Epoch No 200  reached saving model\n",
      "Epoch No [210/2500]  -0.0091\n",
      "Epoch No [220/2500]  0.0105\n",
      "Epoch No [230/2500]  -0.0131\n",
      "Epoch No [240/2500]  -0.0140\n",
      "Epoch No [250/2500]  -0.0129\n",
      "Epoch No [260/2500]  -0.0121\n",
      "Epoch No [270/2500]  -0.0131\n",
      "Epoch No [280/2500]  -0.0131\n",
      "Epoch No [290/2500]  -0.0138\n",
      "Epoch No [300/2500]  -0.0103\n",
      "Epoch No 300  reached saving model\n",
      "Epoch No [310/2500]  -0.0130\n",
      "Epoch No [320/2500]  -0.0129\n",
      "Epoch No [330/2500]  -0.0143\n",
      "Epoch No [340/2500]  -0.0143\n",
      "Epoch No [350/2500]  -0.0125\n",
      "Epoch No [360/2500]  -0.0137\n",
      "Epoch No [370/2500]  -0.0147\n",
      "Epoch No [380/2500]  -0.0138\n",
      "Epoch No [390/2500]  -0.0141\n",
      "Epoch No [400/2500]  -0.0147\n",
      "Epoch No 400  reached saving model\n",
      "Epoch No [410/2500]  -0.0144\n",
      "Epoch No [420/2500]  -0.0121\n",
      "Epoch No [430/2500]  -0.0146\n",
      "Epoch No [440/2500]  -0.0139\n",
      "Epoch No [450/2500]  -0.0143\n",
      "Epoch No [460/2500]  -0.0144\n",
      "Epoch No [470/2500]  -0.0145\n",
      "Epoch No [480/2500]  -0.0145\n",
      "Epoch No [490/2500]  -0.0150\n",
      "Epoch No [500/2500]  -0.0149\n",
      "Epoch No 500  reached saving model\n",
      "Epoch No [510/2500]  -0.0120\n",
      "Epoch No [520/2500]  -0.0146\n",
      "Epoch No [530/2500]  -0.0144\n",
      "Epoch No [540/2500]  -0.0145\n",
      "Epoch No [550/2500]  -0.0150\n",
      "Epoch No [560/2500]  -0.0151\n",
      "Epoch No [570/2500]  -0.0150\n",
      "Epoch No [580/2500]  -0.0135\n",
      "Epoch No [590/2500]  -0.0152\n",
      "Epoch No [600/2500]  -0.0150\n",
      "Epoch No 600  reached saving model\n",
      "Epoch No [610/2500]  -0.0150\n",
      "Epoch No [620/2500]  -0.0146\n",
      "Epoch No [630/2500]  -0.0124\n",
      "Epoch No [640/2500]  -0.0136\n",
      "Epoch No [650/2500]  -0.0152\n",
      "Epoch No [660/2500]  -0.0151\n",
      "Epoch No [670/2500]  -0.0156\n",
      "Epoch No [680/2500]  -0.0151\n",
      "Epoch No [690/2500]  -0.0144\n",
      "Epoch No [700/2500]  -0.0139\n",
      "Epoch No 700  reached saving model\n",
      "Epoch No [710/2500]  -0.0153\n",
      "Epoch No [720/2500]  -0.0155\n",
      "Epoch No [730/2500]  -0.0136\n",
      "Epoch No [740/2500]  -0.0151\n",
      "Epoch No [750/2500]  -0.0152\n",
      "Epoch No [760/2500]  -0.0151\n",
      "Epoch No [770/2500]  -0.0142\n",
      "Epoch No [780/2500]  -0.0155\n",
      "Epoch No [790/2500]  -0.0156\n",
      "Epoch No [800/2500]  -0.0155\n",
      "Epoch No 800  reached saving model\n",
      "Epoch No [810/2500]  -0.0157\n",
      "Epoch No [820/2500]  0.0615\n",
      "Epoch No [830/2500]  -0.0155\n",
      "Epoch No [840/2500]  -0.0155\n",
      "Epoch No [850/2500]  -0.0157\n",
      "Epoch No [860/2500]  -0.0155\n",
      "Epoch No [870/2500]  -0.0154\n"
     ]
    },
    {
     "ename": "KeyboardInterrupt",
     "evalue": "",
     "output_type": "error",
     "traceback": [
      "\u001b[1;31m---------------------------------------------------------------------------\u001b[0m",
      "\u001b[1;31mKeyboardInterrupt\u001b[0m                         Traceback (most recent call last)",
      "\u001b[1;32m<ipython-input-13-7134239201d6>\u001b[0m in \u001b[0;36m<module>\u001b[1;34m\u001b[0m\n\u001b[0;32m      6\u001b[0m     \u001b[1;32mfor\u001b[0m \u001b[0mi\u001b[0m \u001b[1;32min\u001b[0m \u001b[0mrange\u001b[0m\u001b[1;33m(\u001b[0m\u001b[1;36m64\u001b[0m\u001b[1;33m)\u001b[0m\u001b[1;33m:\u001b[0m\u001b[1;33m\u001b[0m\u001b[0m\n\u001b[0;32m      7\u001b[0m \u001b[1;33m\u001b[0m\u001b[0m\n\u001b[1;32m----> 8\u001b[1;33m         \u001b[0mspectros\u001b[0m\u001b[1;33m,\u001b[0m \u001b[0mlbls\u001b[0m\u001b[1;33m,\u001b[0m \u001b[0mlbl_lens\u001b[0m \u001b[1;33m=\u001b[0m \u001b[0mtrainiter\u001b[0m\u001b[1;33m.\u001b[0m\u001b[0mnext\u001b[0m\u001b[1;33m(\u001b[0m\u001b[1;33m)\u001b[0m\u001b[1;33m\u001b[0m\u001b[0m\n\u001b[0m\u001b[0;32m      9\u001b[0m \u001b[1;33m\u001b[0m\u001b[0m\n\u001b[0;32m     10\u001b[0m         \u001b[0mspectros\u001b[0m \u001b[1;33m=\u001b[0m \u001b[0mspectros\u001b[0m\u001b[1;33m.\u001b[0m\u001b[0mto\u001b[0m\u001b[1;33m(\u001b[0m\u001b[0mdevice\u001b[0m\u001b[1;33m)\u001b[0m\u001b[1;33m\u001b[0m\u001b[0m\n",
      "\u001b[1;32mc:\\users\\monogatari\\appdata\\local\\programs\\python\\python36\\lib\\site-packages\\torch\\utils\\data\\dataloader.py\u001b[0m in \u001b[0;36m__next__\u001b[1;34m(self)\u001b[0m\n\u001b[0;32m    613\u001b[0m         \u001b[1;32mif\u001b[0m \u001b[0mself\u001b[0m\u001b[1;33m.\u001b[0m\u001b[0mnum_workers\u001b[0m \u001b[1;33m==\u001b[0m \u001b[1;36m0\u001b[0m\u001b[1;33m:\u001b[0m  \u001b[1;31m# same-process loading\u001b[0m\u001b[1;33m\u001b[0m\u001b[0m\n\u001b[0;32m    614\u001b[0m             \u001b[0mindices\u001b[0m \u001b[1;33m=\u001b[0m \u001b[0mnext\u001b[0m\u001b[1;33m(\u001b[0m\u001b[0mself\u001b[0m\u001b[1;33m.\u001b[0m\u001b[0msample_iter\u001b[0m\u001b[1;33m)\u001b[0m  \u001b[1;31m# may raise StopIteration\u001b[0m\u001b[1;33m\u001b[0m\u001b[0m\n\u001b[1;32m--> 615\u001b[1;33m             \u001b[0mbatch\u001b[0m \u001b[1;33m=\u001b[0m \u001b[0mself\u001b[0m\u001b[1;33m.\u001b[0m\u001b[0mcollate_fn\u001b[0m\u001b[1;33m(\u001b[0m\u001b[1;33m[\u001b[0m\u001b[0mself\u001b[0m\u001b[1;33m.\u001b[0m\u001b[0mdataset\u001b[0m\u001b[1;33m[\u001b[0m\u001b[0mi\u001b[0m\u001b[1;33m]\u001b[0m \u001b[1;32mfor\u001b[0m \u001b[0mi\u001b[0m \u001b[1;32min\u001b[0m \u001b[0mindices\u001b[0m\u001b[1;33m]\u001b[0m\u001b[1;33m)\u001b[0m\u001b[1;33m\u001b[0m\u001b[0m\n\u001b[0m\u001b[0;32m    616\u001b[0m             \u001b[1;32mif\u001b[0m \u001b[0mself\u001b[0m\u001b[1;33m.\u001b[0m\u001b[0mpin_memory\u001b[0m\u001b[1;33m:\u001b[0m\u001b[1;33m\u001b[0m\u001b[0m\n\u001b[0;32m    617\u001b[0m                 \u001b[0mbatch\u001b[0m \u001b[1;33m=\u001b[0m \u001b[0mpin_memory_batch\u001b[0m\u001b[1;33m(\u001b[0m\u001b[0mbatch\u001b[0m\u001b[1;33m)\u001b[0m\u001b[1;33m\u001b[0m\u001b[0m\n",
      "\u001b[1;32mc:\\users\\monogatari\\appdata\\local\\programs\\python\\python36\\lib\\site-packages\\torch\\utils\\data\\dataloader.py\u001b[0m in \u001b[0;36mdefault_collate\u001b[1;34m(batch)\u001b[0m\n\u001b[0;32m    230\u001b[0m     \u001b[1;32melif\u001b[0m \u001b[0misinstance\u001b[0m\u001b[1;33m(\u001b[0m\u001b[0mbatch\u001b[0m\u001b[1;33m[\u001b[0m\u001b[1;36m0\u001b[0m\u001b[1;33m]\u001b[0m\u001b[1;33m,\u001b[0m \u001b[0mcontainer_abcs\u001b[0m\u001b[1;33m.\u001b[0m\u001b[0mSequence\u001b[0m\u001b[1;33m)\u001b[0m\u001b[1;33m:\u001b[0m\u001b[1;33m\u001b[0m\u001b[0m\n\u001b[0;32m    231\u001b[0m         \u001b[0mtransposed\u001b[0m \u001b[1;33m=\u001b[0m \u001b[0mzip\u001b[0m\u001b[1;33m(\u001b[0m\u001b[1;33m*\u001b[0m\u001b[0mbatch\u001b[0m\u001b[1;33m)\u001b[0m\u001b[1;33m\u001b[0m\u001b[0m\n\u001b[1;32m--> 232\u001b[1;33m         \u001b[1;32mreturn\u001b[0m \u001b[1;33m[\u001b[0m\u001b[0mdefault_collate\u001b[0m\u001b[1;33m(\u001b[0m\u001b[0msamples\u001b[0m\u001b[1;33m)\u001b[0m \u001b[1;32mfor\u001b[0m \u001b[0msamples\u001b[0m \u001b[1;32min\u001b[0m \u001b[0mtransposed\u001b[0m\u001b[1;33m]\u001b[0m\u001b[1;33m\u001b[0m\u001b[0m\n\u001b[0m\u001b[0;32m    233\u001b[0m \u001b[1;33m\u001b[0m\u001b[0m\n\u001b[0;32m    234\u001b[0m     \u001b[1;32mraise\u001b[0m \u001b[0mTypeError\u001b[0m\u001b[1;33m(\u001b[0m\u001b[1;33m(\u001b[0m\u001b[0merror_msg\u001b[0m\u001b[1;33m.\u001b[0m\u001b[0mformat\u001b[0m\u001b[1;33m(\u001b[0m\u001b[0mtype\u001b[0m\u001b[1;33m(\u001b[0m\u001b[0mbatch\u001b[0m\u001b[1;33m[\u001b[0m\u001b[1;36m0\u001b[0m\u001b[1;33m]\u001b[0m\u001b[1;33m)\u001b[0m\u001b[1;33m)\u001b[0m\u001b[1;33m)\u001b[0m\u001b[1;33m)\u001b[0m\u001b[1;33m\u001b[0m\u001b[0m\n",
      "\u001b[1;32mc:\\users\\monogatari\\appdata\\local\\programs\\python\\python36\\lib\\site-packages\\torch\\utils\\data\\dataloader.py\u001b[0m in \u001b[0;36m<listcomp>\u001b[1;34m(.0)\u001b[0m\n\u001b[0;32m    230\u001b[0m     \u001b[1;32melif\u001b[0m \u001b[0misinstance\u001b[0m\u001b[1;33m(\u001b[0m\u001b[0mbatch\u001b[0m\u001b[1;33m[\u001b[0m\u001b[1;36m0\u001b[0m\u001b[1;33m]\u001b[0m\u001b[1;33m,\u001b[0m \u001b[0mcontainer_abcs\u001b[0m\u001b[1;33m.\u001b[0m\u001b[0mSequence\u001b[0m\u001b[1;33m)\u001b[0m\u001b[1;33m:\u001b[0m\u001b[1;33m\u001b[0m\u001b[0m\n\u001b[0;32m    231\u001b[0m         \u001b[0mtransposed\u001b[0m \u001b[1;33m=\u001b[0m \u001b[0mzip\u001b[0m\u001b[1;33m(\u001b[0m\u001b[1;33m*\u001b[0m\u001b[0mbatch\u001b[0m\u001b[1;33m)\u001b[0m\u001b[1;33m\u001b[0m\u001b[0m\n\u001b[1;32m--> 232\u001b[1;33m         \u001b[1;32mreturn\u001b[0m \u001b[1;33m[\u001b[0m\u001b[0mdefault_collate\u001b[0m\u001b[1;33m(\u001b[0m\u001b[0msamples\u001b[0m\u001b[1;33m)\u001b[0m \u001b[1;32mfor\u001b[0m \u001b[0msamples\u001b[0m \u001b[1;32min\u001b[0m \u001b[0mtransposed\u001b[0m\u001b[1;33m]\u001b[0m\u001b[1;33m\u001b[0m\u001b[0m\n\u001b[0m\u001b[0;32m    233\u001b[0m \u001b[1;33m\u001b[0m\u001b[0m\n\u001b[0;32m    234\u001b[0m     \u001b[1;32mraise\u001b[0m \u001b[0mTypeError\u001b[0m\u001b[1;33m(\u001b[0m\u001b[1;33m(\u001b[0m\u001b[0merror_msg\u001b[0m\u001b[1;33m.\u001b[0m\u001b[0mformat\u001b[0m\u001b[1;33m(\u001b[0m\u001b[0mtype\u001b[0m\u001b[1;33m(\u001b[0m\u001b[0mbatch\u001b[0m\u001b[1;33m[\u001b[0m\u001b[1;36m0\u001b[0m\u001b[1;33m]\u001b[0m\u001b[1;33m)\u001b[0m\u001b[1;33m)\u001b[0m\u001b[1;33m)\u001b[0m\u001b[1;33m)\u001b[0m\u001b[1;33m\u001b[0m\u001b[0m\n",
      "\u001b[1;32mc:\\users\\monogatari\\appdata\\local\\programs\\python\\python36\\lib\\site-packages\\torch\\utils\\data\\dataloader.py\u001b[0m in \u001b[0;36mdefault_collate\u001b[1;34m(batch)\u001b[0m\n\u001b[0;32m    216\u001b[0m                 \u001b[1;32mraise\u001b[0m \u001b[0mTypeError\u001b[0m\u001b[1;33m(\u001b[0m\u001b[0merror_msg\u001b[0m\u001b[1;33m.\u001b[0m\u001b[0mformat\u001b[0m\u001b[1;33m(\u001b[0m\u001b[0melem\u001b[0m\u001b[1;33m.\u001b[0m\u001b[0mdtype\u001b[0m\u001b[1;33m)\u001b[0m\u001b[1;33m)\u001b[0m\u001b[1;33m\u001b[0m\u001b[0m\n\u001b[0;32m    217\u001b[0m \u001b[1;33m\u001b[0m\u001b[0m\n\u001b[1;32m--> 218\u001b[1;33m             \u001b[1;32mreturn\u001b[0m \u001b[0mtorch\u001b[0m\u001b[1;33m.\u001b[0m\u001b[0mstack\u001b[0m\u001b[1;33m(\u001b[0m\u001b[1;33m[\u001b[0m\u001b[0mtorch\u001b[0m\u001b[1;33m.\u001b[0m\u001b[0mfrom_numpy\u001b[0m\u001b[1;33m(\u001b[0m\u001b[0mb\u001b[0m\u001b[1;33m)\u001b[0m \u001b[1;32mfor\u001b[0m \u001b[0mb\u001b[0m \u001b[1;32min\u001b[0m \u001b[0mbatch\u001b[0m\u001b[1;33m]\u001b[0m\u001b[1;33m,\u001b[0m \u001b[1;36m0\u001b[0m\u001b[1;33m)\u001b[0m\u001b[1;33m\u001b[0m\u001b[0m\n\u001b[0m\u001b[0;32m    219\u001b[0m         \u001b[1;32mif\u001b[0m \u001b[0melem\u001b[0m\u001b[1;33m.\u001b[0m\u001b[0mshape\u001b[0m \u001b[1;33m==\u001b[0m \u001b[1;33m(\u001b[0m\u001b[1;33m)\u001b[0m\u001b[1;33m:\u001b[0m  \u001b[1;31m# scalars\u001b[0m\u001b[1;33m\u001b[0m\u001b[0m\n\u001b[0;32m    220\u001b[0m             \u001b[0mpy_type\u001b[0m \u001b[1;33m=\u001b[0m \u001b[0mfloat\u001b[0m \u001b[1;32mif\u001b[0m \u001b[0melem\u001b[0m\u001b[1;33m.\u001b[0m\u001b[0mdtype\u001b[0m\u001b[1;33m.\u001b[0m\u001b[0mname\u001b[0m\u001b[1;33m.\u001b[0m\u001b[0mstartswith\u001b[0m\u001b[1;33m(\u001b[0m\u001b[1;34m'float'\u001b[0m\u001b[1;33m)\u001b[0m \u001b[1;32melse\u001b[0m \u001b[0mint\u001b[0m\u001b[1;33m\u001b[0m\u001b[0m\n",
      "\u001b[1;31mKeyboardInterrupt\u001b[0m: "
     ]
    }
   ],
   "source": [
    "\n",
    "for epoch in range(num_epochs):\n",
    "    \n",
    "    trainiter = iter(trainloader)\n",
    "    \n",
    "    for i in range(total_step):\n",
    "        \n",
    "        spectros, lbls, lbl_lens = trainiter.next()\n",
    "        \n",
    "        spectros = spectros.to(device)\n",
    "        lbls = lbls.to(device)\n",
    "        lbl_lens.to(device)\n",
    "        \n",
    "        pred = model(spectros)\n",
    "        preds_size = Variable(torch.LongTensor([pred.size(0)] * batch_size))\n",
    "        \n",
    "        #backprop and optimize!\n",
    "        \n",
    "        \n",
    "        optimizer.zero_grad()\n",
    "        cost = criterion(pred, lbls, preds_size, lbl_lens)/batch_size\n",
    "\n",
    "        cost.backward()\n",
    "        optimizer.step()\n",
    "        \n",
    "      \n",
    "    if (epoch+1) % 10 == 0:\n",
    "        print('Epoch No [{}/{}]  {:.4f}'.format(epoch+1,num_epochs,cost.item()))\n",
    "        ctc_loss_list.append(cost.item())\n",
    "\n",
    "    if (epoch+1) % 100 == 0:\n",
    "        print('Epoch No {}  reached saving model'.format(epoch+1))\n",
    "        torch.save(model.state_dict(), 'outputModel/KDNet_epoch_rmsProp_{}.pkl'.format(epoch+1))"
   ]
  },
  {
   "cell_type": "markdown",
   "metadata": {},
   "source": [
    "# Running Inference"
   ]
  },
  {
   "cell_type": "code",
   "execution_count": 47,
   "metadata": {},
   "outputs": [
    {
     "data": {
      "text/plain": [
       "R_CNN(\n",
       "  (convs): Sequential(\n",
       "    (0): Conv2d(3, 64, kernel_size=(3, 3), stride=(1, 1), padding=(1, 1))\n",
       "    (1): LeakyReLU(negative_slope=0.2, inplace)\n",
       "    (2): MaxPool2d(kernel_size=2, stride=2, padding=0, dilation=1, ceil_mode=False)\n",
       "    (3): Conv2d(64, 128, kernel_size=(3, 3), stride=(1, 1), padding=(1, 1))\n",
       "    (4): LeakyReLU(negative_slope=0.2, inplace)\n",
       "    (5): MaxPool2d(kernel_size=2, stride=2, padding=0, dilation=1, ceil_mode=False)\n",
       "    (6): Conv2d(128, 256, kernel_size=(3, 3), stride=(1, 1), padding=(1, 1))\n",
       "    (7): BatchNorm2d(256, eps=1e-05, momentum=0.1, affine=True, track_running_stats=True)\n",
       "    (8): Conv2d(256, 256, kernel_size=(3, 3), stride=(1, 1), padding=(1, 1))\n",
       "    (9): LeakyReLU(negative_slope=0.2, inplace)\n",
       "    (10): MaxPool2d(kernel_size=(2, 1), stride=(2, 1), padding=0, dilation=1, ceil_mode=False)\n",
       "    (11): Conv2d(256, 256, kernel_size=(3, 3), stride=(1, 1), padding=(1, 1))\n",
       "    (12): LeakyReLU(negative_slope=0.2, inplace)\n",
       "    (13): MaxPool2d(kernel_size=(1, 21), stride=(2, 1), padding=0, dilation=1, ceil_mode=False)\n",
       "    (14): Conv2d(256, 512, kernel_size=(3, 3), stride=(1, 1), padding=(1, 1))\n",
       "    (15): BatchNorm2d(512, eps=1e-05, momentum=0.1, affine=True, track_running_stats=True)\n",
       "    (16): Conv2d(512, 512, kernel_size=(3, 3), stride=(1, 1), padding=(1, 1))\n",
       "    (17): LeakyReLU(negative_slope=0.2, inplace)\n",
       "    (18): MaxPool2d(kernel_size=(2, 1), stride=(2, 1), padding=0, dilation=1, ceil_mode=False)\n",
       "    (19): Conv2d(512, 512, kernel_size=(3, 3), stride=(1, 1), padding=(1, 1))\n",
       "    (20): LeakyReLU(negative_slope=0.2, inplace)\n",
       "    (21): MaxPool2d(kernel_size=(2, 1), stride=(2, 1), padding=0, dilation=1, ceil_mode=False)\n",
       "    (22): Conv2d(512, 512, kernel_size=(2, 2), stride=(1, 1))\n",
       "  )\n",
       "  (bilstm): Sequential(\n",
       "    (0): BidirectionalLSTM(\n",
       "      (rnn): LSTM(512, 256, bidirectional=True)\n",
       "      (embedding): Linear(in_features=512, out_features=256, bias=True)\n",
       "    )\n",
       "    (1): BidirectionalLSTM(\n",
       "      (rnn): LSTM(256, 256, bidirectional=True)\n",
       "      (embedding): Linear(in_features=512, out_features=22, bias=True)\n",
       "    )\n",
       "  )\n",
       "  (lgsftMx): LogSoftmax()\n",
       "  (sftMx): Softmax()\n",
       ")"
      ]
     },
     "execution_count": 47,
     "metadata": {},
     "output_type": "execute_result"
    }
   ],
   "source": [
    "inferModel = R_CNN()\n",
    "inferModel.load_state_dict(torch.load('outputModel/KDNet_epoch_rmsProp_800.pkl'))\n",
    "inferModel.to(device)"
   ]
  },
  {
   "cell_type": "code",
   "execution_count": 36,
   "metadata": {},
   "outputs": [
    {
     "data": {
      "text/plain": [
       "tensor([32, 25, 27,  8, 19, 10, 20, 13, 24, 30, 10, 17, 35, 20, 26,  8, 31, 32,\n",
       "        23, 17, 22, 12, 14, 16, 24], device='cuda:0')"
      ]
     },
     "execution_count": 36,
     "metadata": {},
     "output_type": "execute_result"
    }
   ],
   "source": [
    "testIter = iter(validloader)\n",
    "spectros, lbls, lbl_lens = testIter.next()\n",
    "\n",
    "spectros = spectros.to(device)\n",
    "lbls = lbls.to(device)\n",
    "lbl_lens.to(device)"
   ]
  },
  {
   "cell_type": "code",
   "execution_count": 37,
   "metadata": {},
   "outputs": [
    {
     "name": "stdout",
     "output_type": "stream",
     "text": [
      "tensor([[ 1,  7, 15,  ...,  4,  8,  2],\n",
      "        [10,  1,  3,  ..., 16,  8,  2],\n",
      "        [21,  2, 21,  ...,  2, 15,  3],\n",
      "        ...,\n",
      "        [20,  9,  4,  ...,  8,  2, 15],\n",
      "        [ 1, 14,  3,  ...,  0, 15,  1],\n",
      "        [21,  3, 16,  ...,  0, 15,  1]], device='cuda:0')\n",
      "tensor([[ 1,  7, 15,  ...,  0,  0,  0],\n",
      "        [10,  1,  3,  ...,  0,  0,  0],\n",
      "        [21,  2, 21,  ...,  0,  0,  0],\n",
      "        ...,\n",
      "        [20,  9,  4,  ...,  0,  0,  0],\n",
      "        [ 1, 14,  3,  ...,  0,  0,  0],\n",
      "        [21,  3, 16,  ...,  0,  0,  0]], device='cuda:0')\n"
     ]
    }
   ],
   "source": [
    "preds = inferModel(spectros)\n",
    "_, preds = preds.max(2)\n",
    "preds = preds.transpose(1, 0)\n",
    "\n",
    "print(preds)\n",
    "print(lbls)\n",
    "\n"
   ]
  },
  {
   "cell_type": "code",
   "execution_count": 35,
   "metadata": {},
   "outputs": [
    {
     "name": "stdout",
     "output_type": "stream",
     "text": [
      "Our prediction labels: \n",
      "apnaner     shobaike   thanae   jeete   hobe\n",
      "sai kollo   jisstrra    boltte        parbe\n",
      "shesh    porjj   jonto    jigg  gesh    koreni\n",
      "ni              uuiieee                oork\n",
      "kin       ei                           thae\n",
      "cha        a aar                        ktaa\n",
      "dhon  noo  badd       jamman           bhai\n",
      "ja                hobbab               hobe\n",
      "rahaa        kore  er     k   chhie     chhar\n",
      "ami    tate     kono   shomosh sha    dekhi na\n",
      "ei                    to              am mu\n",
      "kake           khun               korreechhe\n",
      "jori   janala   bonddho kore  uthe   daralo\n",
      "ke         kor         shshsh  sho         enish\n",
      "ekhono     jani     na      keno     eshechhe\n",
      "bish                   ta               kaaa\n",
      "benjar  kk oo ho    kooroo  o rhoon doo  mo\n",
      "munar     jon ne  tar   khub  maea   lagchhe\n",
      "majhe          majjhe      halka     narunn\n",
      "bei       ooli         aa            mchchchhe\n",
      "ghorita     oi      manuu    sher       deaa\n",
      "ki          bollll    li                tui\n",
      "chhobi                  pattt         hhaben\n",
      "ami             aar          parchhi      na\n",
      "shirrin    kon      kotha     bol  lo     na\n",
      "\n",
      "\n",
      "Below is the Actual labels: \n",
      "apnader shobaike thanae jete hobe            \n",
      "saikolojistra bolte parbe                   \n",
      "shesh porjjonto jiggesh koreni                 \n",
      "niuieork                                    \n",
      "eiguli kibhabe khae                         \n",
      "char ghonta                                  \n",
      "dhonnobad jaman bhai                        \n",
      "ja hobar hobe                               \n",
      "mathar upor ekchilte chhad                    \n",
      "ami tate kono shomoshsha dekhi na              \n",
      "ei to ammu                                  \n",
      "kake khun korechhe                           \n",
      "jori janala bondho kore uthe daralo         \n",
      "e cholar kono shesh nei                        \n",
      "ekhono jani na keno eshechhe                  \n",
      "bish taka                                    \n",
      "menejarer kono bhabantor hol na             \n",
      "munar jonne tar khub maea lagchhe            \n",
      "majhe majhe halka narun                     \n",
      "beg kromei barchhe                           \n",
      "ghorita oi manusher dea                      \n",
      "ki bolli tui                                \n",
      "chhobi pathaben                              \n",
      "ami ar parchhi na                            \n",
      "shirin kon kotha bollo na                    \n"
     ]
    }
   ],
   "source": [
    "print('Our prediction labels: ')\n",
    "\n",
    "for sent in preds:\n",
    "    print(convertTokens2Dekhabet(sent))\n",
    "\n",
    "\n",
    "print('\\n\\nBelow is the Actual labels: ')\n",
    "    \n",
    "    \n",
    "for sent in lbls:\n",
    "    print(convertTokens2Dekhabet(sent))"
   ]
  },
  {
   "cell_type": "markdown",
   "metadata": {},
   "source": [
    "# Accuracy Calc"
   ]
  },
  {
   "cell_type": "code",
   "execution_count": null,
   "metadata": {},
   "outputs": [],
   "source": []
  },
  {
   "cell_type": "code",
   "execution_count": 27,
   "metadata": {},
   "outputs": [
    {
     "data": {
      "text/plain": [
       "[<matplotlib.lines.Line2D at 0x1d92fd6e4a8>]"
      ]
     },
     "execution_count": 27,
     "metadata": {},
     "output_type": "execute_result"
    },
    {
     "data": {
      "image/png": "[encoded data removed]",
      "text/plain": [
       "<Figure size 864x576 with 1 Axes>"
      ]
     },
     "metadata": {
      "needs_background": "light"
     },
     "output_type": "display_data"
    }
   ],
   "source": [
    "lst = [0.0903, 0.0724, 0.0591, 0.0464, 0.0381, 0.0254, 0.0180, 0.0155,0.0060,0.0036,0.0009]\n",
    "\n",
    "\n",
    "plt.figure(figsize=[12,8])\n",
    "\n",
    "\n",
    "plt.ylabel('Loss')\n",
    "plt.xlabel('x100 Epochs')\n",
    "\n",
    "plt.plot(lst)"
   ]
  },
  {
   "cell_type": "code",
   "execution_count": null,
   "metadata": {},
   "outputs": [],
   "source": []
  }
 ],
 "metadata": {
  "kernelspec": {
   "display_name": "Python 3",
   "language": "python",
   "name": "python3"
  },
  "language_info": {
   "codemirror_mode": {
    "name": "ipython",
    "version": 3
   },
   "file_extension": ".py",
   "mimetype": "text/x-python",
   "name": "python",
   "nbconvert_exporter": "python",
   "pygments_lexer": "ipython3",
   "version": "3.6.2"
  }
 },
 "nbformat": 4,
 "nbformat_minor": 2
}
