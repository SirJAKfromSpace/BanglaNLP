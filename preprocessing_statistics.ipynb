{
 "cells": [
  {
   "cell_type": "code",
   "execution_count": 24,
   "metadata": {},
   "outputs": [],
   "source": [
    "import numpy as np\n",
    "import pyaudio\n",
    "import audio_metadata\n",
    "from os import listdir\n",
    "from os.path import isfile, join\n",
    "import matplotlib.pyplot as plt\n",
    "\n",
    "data_path = 'data/crblp/wav/'\n",
    "audiofiles = [join(data_path,f) for f in listdir(data_path) if isfile(join(data_path, f))]"
   ]
  },
  {
   "cell_type": "code",
   "execution_count": 2,
   "metadata": {},
   "outputs": [
    {
     "name": "stdout",
     "output_type": "stream",
     "text": [
      "data/crblp/wav/13879.wav\n",
      "10895\n"
     ]
    }
   ],
   "source": [
    "print(audiofiles[0])\n",
    "print(len(audiofiles))"
   ]
  },
  {
   "cell_type": "code",
   "execution_count": 3,
   "metadata": {},
   "outputs": [
    {
     "name": "stdout",
     "output_type": "stream",
     "text": [
      "<WAV ({\n",
      "    'filepath': '/home/jakfromspace/Code/Python/BanglaNLP/data/crblp/wav/13879.wav',\n",
      "    'filesize': '358.56 KiB',\n",
      "    'pictures': [],\n",
      "    'streaminfo': <WAVStreamInfo ({\n",
      "        'bit_depth': 16,\n",
      "        'bitrate': '706 Kbps',\n",
      "        'channels': 1,\n",
      "        'duration': '00:04',\n",
      "        'sample_rate': '44.1 KHz',\n",
      "    })>,\n",
      "    'tags': <RIFFTags ({})>,\n",
      "})> \n",
      "\n",
      "<class 'float'>\n",
      "4.16233560090703 in seconds\n"
     ]
    }
   ],
   "source": [
    "metadata = audio_metadata.load(audiofiles[0])\n",
    "print(metadata, '\\n')\n",
    "print(type(metadata.streaminfo.duration))\n",
    "print(metadata.streaminfo.duration,'in seconds')"
   ]
  },
  {
   "cell_type": "code",
   "execution_count": 4,
   "metadata": {},
   "outputs": [
    {
     "name": "stdout",
     "output_type": "stream",
     "text": [
      "data/crblp/wav/15397.wav has bad header\n",
      "Length of Wavfile Durations List: 10894\n",
      "No. of Bad header Wavfiles: 1\n"
     ]
    }
   ],
   "source": [
    "listofdurations = []\n",
    "countofbadwaves = 0\n",
    "for wavfile in audiofiles:\n",
    "    try:\n",
    "        meta = audio_metadata.load(wavfile)\n",
    "        listofdurations.append(meta.streaminfo.duration)\n",
    "    except:\n",
    "        countofbadwaves += 1\n",
    "        print(wavfile,'has bad header')\n",
    "\n",
    "print('Length of Wavfile Durations List:',len(listofdurations))\n",
    "print('No. of Bad header Wavfiles:',countofbadwaves)"
   ]
  },
  {
   "cell_type": "code",
   "execution_count": 21,
   "metadata": {},
   "outputs": [
    {
     "name": "stdout",
     "output_type": "stream",
     "text": [
      "Audio Time Stats\n",
      "----------------\n",
      "Size of Array: 10894\n",
      "Maximum: 64.65\n",
      "Minimum: 0.39\n",
      "Mean 4.49\n",
      "Median: 3.5\n",
      "LoQuart: 2.08\n",
      "UpQuart: 5.74\n"
     ]
    }
   ],
   "source": [
    "listofdurations.sort()\n",
    "print('Audio Time Stats')\n",
    "print('----------------')\n",
    "print('Size of Array:',len(listofdurations))\n",
    "print('Maximum:',round(max(listofdurations),2))\n",
    "print('Minimum:',round(min(listofdurations),2))\n",
    "print('Mean',round(sum(listofdurations)/len(listofdurations),2))\n",
    "print('Median:',round(listofdurations[int(len(listofdurations)/2)],2))\n",
    "print('LoQuart:',round(listofdurations[int(len(listofdurations)/2) - int(len(listofdurations)/4)],2))\n",
    "print('UpQuart:',round(listofdurations[int(len(listofdurations)/2) + int(len(listofdurations)/4)],2))"
   ]
  },
  {
   "cell_type": "code",
   "execution_count": 32,
   "metadata": {},
   "outputs": [
    {
     "data": {
      "image/png": "[encoded data removed]",
      "text/plain": [
       "<Figure size 1152x576 with 1 Axes>"
      ]
     },
     "metadata": {
      "needs_background": "light"
     },
     "output_type": "display_data"
    }
   ],
   "source": [
    "plt.figure(figsize=(16,8))\n",
    "from matplotlib import pyplot as plt\n",
    "\n",
    "# data = np.random.normal(0, 20, 1000) \n",
    "data = listofdurations\n",
    "\n",
    "# fixed bin size\n",
    "bins = np.arange(0, 20, 0.1) # fixed bin size\n",
    "\n",
    "plt.xlim([0, 20])\n",
    "\n",
    "plt.hist(data, bins=bins, alpha=0.5)\n",
    "plt.title('Audio Playback Time Distribution')\n",
    "plt.xticks(np.arange(0, 20, 1.0))\n",
    "plt.xlabel('Playback Time')\n",
    "plt.ylabel('File Count')\n",
    "\n",
    "plt.show()"
   ]
  },
  {
   "cell_type": "code",
   "execution_count": 43,
   "metadata": {},
   "outputs": [
    {
     "name": "stdout",
     "output_type": "stream",
     "text": [
      "Bad Header: data/crblp/wav/15397.wav\n",
      "5542\n",
      "data/crblp/wav/13879.wav\n",
      "data/crblp/wav/18434.wav\n"
     ]
    }
   ],
   "source": [
    "validtimes = []\n",
    "for f in audiofiles:\n",
    "    try:\n",
    "        t = audio_metadata.load(f).streaminfo.duration\n",
    "        if t>=1.5 and t<=4.5:\n",
    "            validtimes.append(f)\n",
    "    except:\n",
    "        print('Bad Header:',f)\n",
    "        \n",
    "print(len(validtimes))\n",
    "print(validtimes[0])\n",
    "print(validtimes[len(validtimes)-1])"
   ]
  },
  {
   "cell_type": "code",
   "execution_count": 45,
   "metadata": {},
   "outputs": [],
   "source": [
    "file = open('RangedAudiofileList.txt','w') \n",
    "for f in validtimes:\n",
    "    file.write(f)\n",
    "    file.write('\\n')\n",
    "file.close() "
   ]
  }
 ],
 "metadata": {
  "kernelspec": {
   "display_name": "Python 3",
   "language": "python",
   "name": "python3"
  },
  "language_info": {
   "codemirror_mode": {
    "name": "ipython",
    "version": 3
   },
   "file_extension": ".py",
   "mimetype": "text/x-python",
   "name": "python",
   "nbconvert_exporter": "python",
   "pygments_lexer": "ipython3",
   "version": "3.6.2"
  }
 },
 "nbformat": 4,
 "nbformat_minor": 2
}
