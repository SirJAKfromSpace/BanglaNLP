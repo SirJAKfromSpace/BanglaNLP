{
 "cells": [
  {
   "cell_type": "markdown",
   "metadata": {},
   "source": [
    "# Convert Bijoy Encoding to Unicode Bangla"
   ]
  },
  {
   "cell_type": "code",
   "execution_count": 3,
   "metadata": {},
   "outputs": [],
   "source": [
    "from bijoy2unicode import converter"
   ]
  },
  {
   "cell_type": "code",
   "execution_count": 4,
   "metadata": {},
   "outputs": [
    {
     "name": "stdout",
     "output_type": "stream",
     "text": [
      "Dfq cv‡k av‡bi kx‡l †ewóZ cvwb‡Z fvmgvb RvZxq dzj kvcjv| Zvi gv_vq cvUMv‡Qi ci¯úi mshy³ wZbwU cvZv Ges Dfh cv‡k `ywU K‡i ZviKv|\n"
     ]
    }
   ],
   "source": [
    "conv = converter.Unicode()\n",
    "bijoy_text = 'Dfq cv‡k av‡bi kx‡l †ewóZ cvwb‡Z fvmgvb RvZxq dzj kvcjv| Zvi gv_vq cvUMv‡Qi ci¯úi mshy³ wZbwU cvZv Ges Dfh cv‡k `ywU K‡i ZviKv|'\n",
    "\n",
    "print(bijoy_text)"
   ]
  },
  {
   "cell_type": "code",
   "execution_count": 7,
   "metadata": {},
   "outputs": [
    {
     "name": "stdout",
     "output_type": "stream",
     "text": [
      "উভয় পাশে ধানের শীষে বেষ্টিত পানিতে ভাসমান জাতীয় ফুল শাপলা। তার মাথায় পাটগাছের পরস্পর সংযুক্ত তিনটি পাতা এবং উভয পাশে দুটি করে তারকা।\n"
     ]
    }
   ],
   "source": [
    "toPrint = conv.convertBijoyToUnicode(bijoy_text)\n",
    "print(toPrint)"
   ]
  },
  {
   "cell_type": "markdown",
   "metadata": {},
   "source": [
    "# Sphinx Phoneme Detection"
   ]
  },
  {
   "cell_type": "code",
   "execution_count": 45,
   "metadata": {},
   "outputs": [
    {
     "name": "stdout",
     "output_type": "stream",
     "text": [
      "/home/jakfromspace/.local/lib/python3.6/site-packages/pocketsphinx/model\n",
      "/home/jakfromspace/.local/lib/python3.6/site-packages/pocketsphinx/data\n"
     ]
    }
   ],
   "source": [
    "print(get_model_path())\n",
    "print(get_data_path())"
   ]
  },
  {
   "cell_type": "code",
   "execution_count": 53,
   "metadata": {},
   "outputs": [
    {
     "name": "stdout",
     "output_type": "stream",
     "text": [
      "SphinxTest: SIL T SH SIL L NG AO P AA NG SIL K AA K SIL K AA M SIL P P AW HH SIL P AA SIL K AA SIL\n"
     ]
    }
   ],
   "source": [
    "from __future__ import print_function\n",
    "import os\n",
    "from pocketsphinx import Pocketsphinx, get_model_path, get_data_path\n",
    "\n",
    "model_path = get_model_path()\n",
    "data_path = get_data_path() #'/home/jakfromspace/Code/Python/BanglaSTPT/bn-bd/wavs/'\n",
    "\n",
    "config = {\n",
    "    'hmm': os.path.join(model_path, 'en-us'),\n",
    "#     'lm': os.path.join(model_path, 'hindi.lm'),\n",
    "    'allphone': os.path.join(model_path, 'en-us-phone.lm.bin'),\n",
    "    'lw': 2.0,\n",
    "    'beam': 1e-10,\n",
    "    'pbeam': 1e-10\n",
    "    ,'dict': os.path.join(model_path, 'bn.dict')\n",
    "}\n",
    "\n",
    "ps = Pocketsphinx(**config)\n",
    "ps.decode(\n",
    "audio_file=os.path.join(data_path, '10000.wav'),\n",
    "buffer_size=1024,\n",
    "no_search=False,\n",
    "full_utt=False\n",
    ")\n",
    "\n",
    "print('SphinxTest:',ps.hypothesis())"
   ]
  },
  {
   "cell_type": "markdown",
   "metadata": {},
   "source": [
    "### Read Transcriptions from CSV"
   ]
  },
  {
   "cell_type": "code",
   "execution_count": 29,
   "metadata": {},
   "outputs": [
    {
     "name": "stdout",
     "output_type": "stream",
     "text": [
      "S K UW L T IH R SIL D IH K EY SIL D R IH SH T IH SIL D IH N\n",
      "স্কুলটির দিকে দৃষ্টি দিন\n"
     ]
    }
   ],
   "source": [
    "import csv\n",
    "\n",
    "with open('pp_data.csv') as csvfile:\n",
    "    readCSV = csv.reader(csvfile, delimiter=',')\n",
    "    bangla = []\n",
    "    cmubet = []\n",
    "    for row in readCSV:\n",
    "        r3 = row[3]\n",
    "        r1 = row[1]\n",
    "\n",
    "        bangla.append(r1)\n",
    "        cmubet.append(r3)\n",
    "\n",
    "cmubet.pop(0)\n",
    "bangla.pop(0)\n",
    "print(cmubet[0])\n",
    "print(bangla[0])"
   ]
  },
  {
   "cell_type": "markdown",
   "metadata": {},
   "source": [
    "### English-US HMM"
   ]
  },
  {
   "cell_type": "code",
   "execution_count": 60,
   "metadata": {
    "scrolled": true
   },
   "outputs": [
    {
     "name": "stdout",
     "output_type": "stream",
     "text": [
      "Bangla0: স্কুলটির দিকে দৃষ্টি দিন\n",
      "Sphinx0: SIL T SH UH T Z G UW N L K AO B AH D SIL T AE K SIL K AA AE NG SIL D K OW AY K SIL P +SPN+ K AA D +SPN+ P SIL\n",
      "CMUBET0: S K UW L T IH R SIL D IH K EY SIL D R IH SH T IH SIL D IH N\n",
      " \n",
      "Bangla1: পিরোজপুর জেলার কাউখালী বন্দরে একটি মাত্র বালিকা বিদ্যালয় আছে, যা এসবি সরকারি উচ্চবালিকা বিদ্যালয় নামে পরিচিত\n",
      "Sphinx1: SIL AH AE G EY NG SH UH SIL T IY W K K HH +SPN+ NG UW IY CH P D ER L UW IH L AA B M L UW +SPN+ D D L UW K IH L +SPN+ D SIL P AW TH SIL D SIL HH AE N NG M Z K IY N P M UW HH D K AH P AA SIL P L AH R UH D SH SIL HH ER SIL T K HH OW UW P P AY SH SIL TH AE +SPN+ HH AE HH UW NG IH D UH AA D SIL UW K EY P UW HH D K UH P +SPN+ SIL AH M UH T L AH DH ER W +SPN+ HH SIL AH M UW K TH T HH K SIL IH D AH DH N IH K SIL SIL\n",
      "CMUBET1: P IH R OW JH P UW R SIL JH EY L AA R SIL K AA UW K AA L IH SIL B AO N D AO R EY SIL EY K T IH SIL M AA T T R OW SIL B AA L IH K AA SIL B IH D D AA L AO Y SIL AA EY SIL JH AA SIL EY S B IH SIL SH AO R K AA R IH SIL UW OW B AA L IH K AA SIL B IH D D AA L AO Y SIL N AA M EY SIL P OW R IH IH T OW\n",
      " \n",
      "Bangla2: অনেক ঐতিহ্য বহন করছে এ বিদ্যালয়টি\n",
      "Sphinx2: SIL D UW N AE HH P AH T SIL UW EH TH P HH SIL P AE M IY B M IY D AO L Z UW P IY K HH AW N T P AW SIL K AE SIL T AE DH L UH AH T P AA P SIL\n",
      "CMUBET2: AO N EY K SIL OW IH T IH JH JH OW SIL B AO HH OW N SIL K OW R EY SIL EY SIL B IH D D AA L AO Y T IH\n",
      " \n",
      "Bangla3: কিন্তু এখানকার ছাত্রী ও শিক্ষক-শিক্ষিকাদের সম্মুখীন হতে হচ্ছে বহুবিধ সমস্যার\n",
      "Sphinx3: SIL K AE NG T K UW P SIL AA HH IH N D UH B UH T K AE EY UW T AO +SPN+ D IH T P M UW AE\n",
      "CMUBET3: K IH N T UW SIL EY K AA N K AA R SIL AA T T R IH SIL OW SIL SH IH K K AO K SIL SH IH K K IH K AA D EY R SIL SH AO M M UW K IH N SIL HH OW T EY SIL HH OW EY SIL B OW HH UW B IH D OW SIL SH AO M OW SH SH AA R\n",
      " \n",
      "Bangla4: পাশ্বর্বর্তী বিভিন্ন গ্রাম ও দূরদূরান্ত থেকে ভালো শিক্ষার আশায় এখানে পড়তে আসছে শিক্ষার্থীরা\n",
      "Sphinx4: SIL T L UW K EH T M M IY K P AE HH AH D SIL P AA K HH N M T IH NG ER UW M IY M V SIL K NG IY K IH L IH K SIL K NG UW SIL K UW P HH AA SIL T AA HH NG SIL SIL NG B UH T UW UW IY T HH AA F SIL AE HH UW B AH NG B ER ER HH EH T UW HH HH B AE DH HH IY L AE V SIL T M UW CH K P AE +SPN+ HH T P AA +SPN+ SIL T SIL K HH AA TH SIL T AE HH OW P P HH AA DH OW L UW G P AH K SIL\n",
      "CMUBET4: P AA R SH OW B OW R T IH SIL B IH B IH N N OW SIL R AA M SIL OW SIL D UW R D UW R AA N T OW SIL T EY K EY SIL B AA L OW SIL SH IH K K AA R SIL AA SH AA Y SIL EY K AA N EY SIL P OW DX T EY SIL AA SH EY SIL SH IH K K AA R T IH R AA\n",
      " \n",
      "Bangla5: কিন্তু তারপরও শিক্ষার্থীরা এখানে পাচ্ছে না যথাযথ শিক্ষা\n",
      "Sphinx5: SIL K K AE SIL K UW T SIL SIL UW IY P UW Y UW M L D HH TH T EH G NG K SIL T HH K EY NG D SIL AW TH HH +SPN+ AE T SIL G ER D SH HH +SPN+ DH AH R ER UW T D P AH UW T P SIL UW HH +SPN+ ER UW P T M P SIL K HH AA F SIL K HH UW UW R G P SIL TH K\n",
      "CMUBET5: K IH N T UW SIL T AA R P AO R OW SIL SH IH K K AA R T IH R AA SIL EY K AA N EY SIL P AA EY SIL N AA SIL JH AO T AA JH AO T OW SIL SH IH K K AA\n",
      " \n",
      "Bangla6: এর প্রধান কারণ শিক্ষক-শিক্ষিকা সংকট\n",
      "Sphinx6: SIL AE K OW SIL K IY UH CH AE UW N AE P AH T UH K L UW NG SIL K HH AA F SIL UW T SIL HH +SPN+ TH SIL K HH TH K AA OW HH UW ER P IH TH M L UW SIL SIL\n",
      "CMUBET6: EY R SIL P R OW D AA N SIL K AA R OW N SIL SH IH K K AO K SIL SH IH K K IH K AA SIL SH AO NG K AO T\n",
      " \n",
      "Bangla7: এক বছর ধরে এখানে নেই কোনো প্রধান শিক্ষক\n",
      "Sphinx7: SIL AA L +SPN+ B UW HH IY G F EY UW K AY T IY SIL K AE TH HH +SPN+ NG AE +NSN+ T AY HH SIL Z M UW NG UW P UW K IH OW N K HH +SPN+ SIL IY UW SIL\n",
      "CMUBET7: AE K SIL B AO OW R SIL D AO R EY SIL EY K AA N EY SIL N EY IH SIL K OW N OW SIL P R OW D AA N SIL SH IH K K AO K\n",
      " \n",
      "Bangla8: ভারপ্রাপ্ত সিনিয়র শিক্ষক এই প্রতিষ্ঠানটি একা চালাতে হিমশিম খাচ্ছেন\n",
      "Sphinx8: SIL ER P IH T IY P L UH P +SPN+ K IH IY L M SIL SH AE HH HH EY P HH +SPN+ SIL D UW B AE T SIL AA P NG IH P AW HH +NSN+ P +SPN+ OW L NG SIL K AA HH NG SIL SIL AH TH B AH D UH T D K AA ER P AE HH SIL AA L D HH NG SIL SH EY UW D T K SH HH +SPN+ D AE\n",
      "CMUBET8: B AA R P R AA P T OW SIL S IH N IH Y OW R SIL SH IH K K AO K SIL EY IH SIL P R OW T IH SH T AA N T IH SIL AE K AA SIL AA L AA T EY SIL HH IH M SH IH M SIL K AA EY N\n",
      " \n",
      "Bangla9: সহকারী প্রধান শিক্ষক পদটি থাকা সত্ত্বেও এই প্রতিষ্ঠানে নেই কোনো সহকারী প্রধান শিক্ষক\n",
      "Sphinx9: SIL K AE UH UW L N P IH T UH IY B IY AE UH T UW NG HH L F SIL Z IH HH M UW P M UW P P AA HH NG SIL P AH D UH T +SPN+ NG K T UH P SIL K AY L UW P SIL AE SIL P UW K AW HH SIL P AE UW N AH +SPN+ NG IY K AA F SIL T N UW W UW M N P L K IH P UW T UH P +SPN+ AE T SIL K UH T UW L K HH +SPN+ SIL D EY L UW SIL\n",
      "CMUBET9: SH AO HH OW K AA R IH SIL P R OW D AA N SIL SH IH K K AO K SIL P AO D T IH SIL T AA K AA SIL SH AO T T EY OW SIL EY IH SIL P R OW T IH SH T AA N EY SIL N EY IH SIL K OW N OW SIL SH AO HH OW K AA R IH SIL P R OW D AA N SIL SH IH K K AO K\n",
      " \n",
      "Bangla10: দুবছর ধরে নেই কোনো করণিক\n",
      "Sphinx10: SIL K EY M B UW T M K EY IY D SIL K EY T UW B AY HH D IY P AE HH D UW W OW N SIL IY UW R IY L HH SIL SIL SIL\n",
      "CMUBET10: D UW B AO OW R SIL D AO R EY SIL N EY IH SIL K OW N OW SIL K AO R OW N IH K\n",
      " \n",
      "Bangla11: এ বিদ্যালয়ে ছাত্রীসংখ্যা প্রায় ৭৫০\n",
      "Sphinx11: SIL AE +SPN+ K AE SIL P AA UW ER L UH ER AH DH P SIL SH HH L UH T AO HH AH T UW N D UW DH AO UW AH T NG SIL L HH D AH T P SH EH HH NG P M ER T P AA UW N ER NG HH SIL\n",
      "CMUBET11: EY SIL B IH D D AA L AO Y EY SIL AA T T R IH SH AO NG K AA SIL P R AA Y SIL SH AA T SH OW SIL P AO N AA SH\n",
      " \n",
      "Bangla12: কিন্তু শিক্ষক মাত্র ছয় জন\n",
      "Sphinx12: SIL K AE N SIL K UW Y SIL L P HH AA F SIL DH IH HH UW B AH D N UW W ER T T K IY D K HH UW L T K AA +SPN+ UW R TH SIL HH SIL\n",
      "CMUBET12: K IH N T UW SIL SH IH K K AO K SIL M AA T T R OW SIL AO Y SIL JH AO N\n",
      " \n",
      "Bangla13: সম্প্রতি একজন বিজ্ঞান বিভাগের শিক্ষক তিন মাসের ট্রেনিংয়ে গেছেন\n",
      "Sphinx13: SIL K HH IY L N UW P IY UH T SIL P AE HH HH D AE +SPN+ HH +SPN+ OW NG AA M SIL P AA +SPN+ P AE UW NG B AA NG TH UW T HH AA +SPN+ SIL T UW D D IH SIL P AE HH NG W +NSN+ HH AA M +SPN+ SIL T AO W K HH L D AW P AH T P SH HH L P ER SIL\n",
      "CMUBET13: SH AO M P R OW T IH SIL AE K JH AO N SIL B IH AA N SIL B IH B AA EY R SIL SH IH K K AO K SIL T IH N SIL M AA SH EY R SIL T R EY N IH NG Y EY SIL AE EY N\n",
      " \n",
      "Bangla14: এই বিদ্যালয়ে চতুর্থ শ্রেণী থেকে দশম শ্রেণী পর্যন্ত পড়ানো হয়\n",
      "Sphinx14: SIL P AE HH TH SIL TH AE N SIL T OW M L AY F SIL K UH K OW IY K SIL K IY SH K AO NG HH V P AY P UW K UW D SH P AO L HH SIL D M UW T IH P AH ER +NSN+ K UW P M UW T ER L UW Y N UW R V AH G SIL SIL\n",
      "CMUBET14: EY IH SIL B IH D D AA L AO Y EY SIL OW T UW R T T OW SIL S R EY N IH SIL T EY K EY SIL D AO SH OW M SIL S R EY N IH SIL P AO R JH JH OW N T OW SIL P AO DX AA N OW SIL HH AO Y\n",
      " \n",
      "Bangla15: এই সাতটি শ্রেণীর পাঠদান করা পাঁচজন শিক্ষকের পক্ষে অসম্ভব হয়ে দেখা দেয়\n",
      "Sphinx15: SIL HH AA HH TH UW NG P EY SH K AO NG AE P AH SIL SIL UW ER HH T K EH T DH UH D N AH K D IH D UW T UW ER P S SIL T ER T P EY HH OW TH D UW P AH P L P SIL P UW M B HH AW +SPN+ SIL SIL UW P P M UW HH EH T M UW D IY F SIL M UW AY P AH TH HH SIL T L HH AH K SIL SIL\n",
      "CMUBET15: EY IH SIL SH AA T T IH SIL S R EY N IH R SIL P AA T D AA N SIL K AO R AA SIL P AA JH AO N SIL SH IH K K OW K EY R SIL P AO K K EY SIL AO SH AO M B AO B SIL HH OW Y EY SIL D AE K AA SIL D EY OW\n",
      " \n",
      "Bangla16: নৈশ প্রহরীর পদেও কোনো লোক নেই\n",
      "Sphinx16: SIL TH W +SPN+ OW HH IY B P IY B EY P SIL M UW B AE UW SIL D M UW NG UW N M K OW M N B AH T SIL L +SPN+ HH SIL SIL\n",
      "CMUBET16: N OW IH SH OW SIL P R OW HH OW R IH R SIL P AO D EY OW SIL K OW N OW SIL L OW K SIL N EY IH\n",
      " \n",
      "Bangla17: রাতে বিদ্যালয়টি অরক্ষিত অবস্থায় থাকে\n",
      "Sphinx17: SIL EY HH AH DH L UW B AE +SPN+ D B AE K SIL T UH UW OW N P AE HH D B R UW W UW IY T HH IH D SIL K IH NG UW D UW SH T EY UW +SPN+ P IH TH SIL P SIL\n",
      "CMUBET17: R AA T EY SIL B IH D D AA L AO Y T IH SIL AO R OW K K IH T OW SIL AO B OW S T AA Y SIL T AA K EY\n",
      " \n",
      "Bangla18: এই বিদ্যালয়ে একটি লাইব্রেরি আছে, কিন্তু সেই লাইব্রেরি কক্ষ কখনোই খোলা হয় না\n",
      "Sphinx18: SIL AE SIL AE SIL K OW UW ER HH B AE TH SIL AE SIL IH L AY P AO T AE R UW T D SH HH SIL AY SIL K UW N SIL SIL K HH AA HH L AA P AO AE DH T UW DH IH T M UW N T IH G UW G EY M UW W AE D SIL TH IH T UW M L IY N AH R AA P ER N IH P AH TH\n",
      "CMUBET18: EY IH SIL B IH D D AA L AO Y EY SIL EY K T IH SIL L AA IH B R EY R IH SIL AA EY SIL K IH N T UW SIL SH EY IH SIL L AA IH B R EY R IH SIL K OW K K OW SIL K AO K OW N OW IH SIL K OW L AA SIL HH AO Y SIL N AA\n",
      " \n"
     ]
    },
    {
     "name": "stdout",
     "output_type": "stream",
     "text": [
      "Bangla19: কারণ কোনো গ্রন্থাগারিক নেই\n",
      "Sphinx19: SIL TH AE ER IH P L UW SIL T M UW T L W UW M SIL IY K NG UW NG IH D IH N AY T OW AY P +SPN+ SIL L AY P SIL\n",
      "CMUBET19: K AA R OW N SIL K OW N OW SIL R OW N T AA AA R IH K SIL N EY IH\n",
      " \n",
      "Bangla20: যে কারণে শিক্ষার্থীরা লাইব্রেরির বই পড়া থেকে বঞ্চিত হচ্ছে\n",
      "Sphinx20: SIL S K SH AA HH SIL T UH P NG K AA HH SIL HH AY TH SIL TH HH SIL OW D SIL K HH AE P OW ER B K IH M ER EH K SIL K AO EY P AO SIL D M EY S SIL T UW IY W UH P HH D SIL T AE DH D M UW T K HH AA P AH IY DH ER K SH HH R K K UH T SIL\n",
      "CMUBET20: JH EY SIL K AA R OW N EY SIL SH IH K K AA R T IH R AA SIL L AA IH B B R EY R IH R SIL B OW IH SIL P AO DX AA SIL T EY K EY SIL B OW N IH T OW SIL HH OW EY\n",
      " \n",
      "Bangla21: বিজ্ঞানাগারটাও সংস্কার করা প্রয়োজন এবং একজন বিজ্ঞান সহকারী প্রয়োজন\n",
      "Sphinx21: SIL P AA +SPN+ D EH HH IH UH NG IH OW DH OW T K ER M P HH EY UW K +NSN+ T AA B NG P IH UW W UH P L +SPN+ K HH OW N NG AH T NG SIL HH AE P M UW NG SIL AE D K OW D SIL P AA HH SIL HH +SPN+ NG UW T HH UW UW T ER AW P AE K SIL K AO L K K AA AH N ER L D P\n",
      "CMUBET21: B IH AE N AA AA R T AA OW SIL SH AO NG SH K AA R SIL K AO R AA SIL P R OW Y OW JH AO N SIL EY B AO NG SIL AE K JH AO N SIL B IH AA N SIL SH AO HH OW K AA R IH SIL P R OW Y OW JH AO N\n",
      " \n",
      "Bangla22: উপরিউক্ত সমস্যাগুলোর সমাধানে যথাযথ ব্যবস্থা গ্রহণের জন্য ঊর্ধ্বতন কর্তৃপক্ষের সদয় দৃষ্টি আকর্ষণ করছি\n",
      "Sphinx22: SIL D M AH K SIL T IY W AE NG IY P T SIL K AH NG K EY T UW M N IY HH UW UH D IH D N IY L EY NG HH L UW G UW P OW L UW P AY HH DH SIL K +SPN+ UW T P IH L IY P OW P T M P OW UW P UW SH T IH K EY T IH UW K NG IY OW AA P T P L UW K SIL L UW SIL M IY T SIL K M P UW B UW N SIL D UW L K K AO +SPN+ SIL TH UW B HH AA P L K SIL HH T UW P EY AE AA HH P AY ER P UW K HH L SIL M L K SH AE HH K SIL\n",
      "CMUBET22: UW P OW R IH UW K T OW SIL SH AO M OW SH SH AA UW L OW R SIL SH AO M AA D AA N EY SIL JH AO T AA JH AO T OW SIL B AE B OW S T AA SIL R OW HH OW N EY R SIL JH OW N N OW SIL UW R D D OW T AO N OW SIL K OW R T R IH P OW K K EY R SIL SH AO D AO Y SIL D R IH SH T IH SIL AA K AO R SH SH OW N SIL K OW R IH\n",
      " \n",
      "Bangla23: সোনিয়া মৌমিতা\n",
      "Sphinx23: SIL T SH UW T HH UW N M NG AH HH +SPN+ SIL IH L UW R M AH Z P\n",
      "CMUBET23: S OW N IH Y AA SIL M OW UW M IH T AA\n",
      " \n",
      "Bangla24: কাউখালী, পিরোজপুর\n",
      "Sphinx24: SIL DH IH W ER UW B IH HH +SPN+ OW AY K +SPN+ SIL K AE P AO +SPN+ SH K SIL T UW SIL\n",
      "CMUBET24: K AA UW K AA L IH SIL P IH R OW JH P UW R\n",
      " \n",
      "Bangla25: বিহঙ্গেরে তুলিয়া লও বুকে\n",
      "Sphinx25: SIL SIL P AA HH EY M N T AE K AH AE SIL K NG AO HH OW G UW M B AH M UW SIL AH T AA P P Z D SIL\n",
      "CMUBET25: B IH HH AO NG EY R EY SIL T UW L IH Y AA SIL L AO OW SIL B UW K EY\n",
      " \n",
      "Bangla26: শীতের শুরুতে দেশের হাওর-বিল, চরাঞ্চল, পাহাড়ি অঞ্চল ছাড়াও গাঁয়ের নির্জন অঞ্চলে অতিথি পাখিরা আসতে শুরু করে\n",
      "Sphinx26: SIL AE HH EH T P AE K EH T UW NG IH OW SH +NSN+ T AA +SPN+ HH SIL K AE HH AE HH AW NG D G UW IY N P AA AE NG SIL T K UW W UW T K UW AE\n",
      "CMUBET26: SH IH T EY R SIL SH UW R UW T EY SIL D EY SH EY R SIL HH AA OW R SIL B IH L SIL AO R AA N AO L SIL P AA HH AA DX IH SIL AO N AO L SIL AA DX AA OW SIL AA Y EY R SIL N IH R JH JH AO N SIL AO N AO L EY SIL OW T IH T IH SIL P AA K IH R AA SIL AA SH T EY SIL SH UW R UW SIL K OW R EY\n",
      " \n",
      "Bangla27: ঝাঁক বেঁধে এরা আসে\n",
      "Sphinx27: SIL SH AE UW N D AE HH AH B AA P HH SH AE HH OW UW D UW R UW HH AH HH SIL SIL\n",
      "CMUBET27: JH AA K SIL B EY D EY SIL EY R AA SIL AA SH EY\n",
      " \n",
      "Bangla28: দেখতে এরা খুব সুন্দর\n",
      "Sphinx28: SIL N P AE HH D SIL T AE HH D HH AE HH L UH TH IY NG TH EH T ER D SIL P UW P OW SIL\n",
      "CMUBET28: D EY K T EY SIL EY R AA SIL K UW B SIL SH UW N D AO R\n",
      " \n",
      "Bangla29: এদের কূজন-গুঞ্জন মনোমুগ্ধকর\n",
      "Sphinx29: SIL AY P AE HH +SPN+ T SIL DH Z M Y T K SH N UW N +SPN+ DH T AH M Y ER NG HH +SPN+ M B UH N M AH P OW W M P P EY P IH D M UW R UW B NG K L SIL SIL\n",
      "CMUBET29: EY D EY R SIL K UW JH AO N SIL UW N JH AO N SIL M OW N OW M UW D OW K AO R\n",
      " \n",
      "Bangla30: হৃদয়ে শান্তি-সুখের হিল্লোল সৃষ্টিকারী\n",
      "Sphinx30: SIL AO AE DH L UW +SPN+ AE Y UW N ER Z P AA HH SIL OW TH HH SIL K NG +NSN+ AA HH SIL HH UW T SH F AY HH +NSN+ K +SPN+ SIL AH DH AH S V AH P SIL P SIL SIL\n",
      "CMUBET30: HH R IH D AO Y EY SIL SH AA N T IH SIL SH UW K EY R SIL HH IH L L OW L SIL S R IH SH T IH K AA R IH\n",
      " \n"
     ]
    }
   ],
   "source": [
    "import time\n",
    "for i in range(0,31):\n",
    "    ps.decode(\n",
    "    audio_file=os.path.join(data_path, '100{:02d}{}'.format(i,'.wav')),\n",
    "    buffer_size=2048,\n",
    "    no_search=False,\n",
    "    full_utt=False\n",
    "    )\n",
    "    \n",
    "    print('Bangla{}: {}'.format(i,bangla[i]))\n",
    "    print('Sphinx{}: {}'.format(i,ps.hypothesis()))\n",
    "    print('CMUBET{}: {}'.format(i,cmubet[i]))\n",
    "    print(' ')\n",
    "#     time.sleep(2)\n"
   ]
  },
  {
   "cell_type": "markdown",
   "metadata": {},
   "source": [
    "### English-Indian HMM "
   ]
  },
  {
   "cell_type": "code",
   "execution_count": 58,
   "metadata": {
    "scrolled": true
   },
   "outputs": [
    {
     "name": "stdout",
     "output_type": "stream",
     "text": [
      "Bangla0: স্কুলটির দিকে দৃষ্টি দিন\n",
      "Sphinx0: SIL HH SH SIL Y UA HH M DH HH UNK SIL HH SIL\n",
      "CMUBET0: S K UW L T IH R SIL D IH K EY SIL D R IH SH T IH SIL D IH N\n",
      " \n",
      "Bangla1: পিরোজপুর জেলার কাউখালী বন্দরে একটি মাত্র বালিকা বিদ্যালয় আছে, যা এসবি সরকারি উচ্চবালিকা বিদ্যালয় নামে পরিচিত\n",
      "Sphinx1: SIL HH NG SH S IY SIL HH K L EY HH P UW G HH AA SIL T AA Z HH N L Z K IY K L HH L DH AA TH UA UA AX CH EA SIL HH K L UNK SH SH HH IY EH SIL L HH L L HH AE SIL SIL SIL UW AE T UW HH AE T IY T TH\n",
      "CMUBET1: P IH R OW JH P UW R SIL JH EY L AA R SIL K AA UW K AA L IH SIL B AO N D AO R EY SIL EY K T IH SIL M AA T T R OW SIL B AA L IH K AA SIL B IH D D AA L AO Y SIL AA EY SIL JH AA SIL EY S B IH SIL SH AO R K AA R IH SIL UW OW B AA L IH K AA SIL B IH D D AA L AO Y SIL N AA M EY SIL P OW R IH IH T OW\n",
      " \n",
      "Bangla2: অনেক ঐতিহ্য বহন করছে এ বিদ্যালয়টি\n",
      "Sphinx2: SIL T HH Z UH HH IY M IY OW HH M HH AA TH AA DH SIL UA TH HH\n",
      "CMUBET2: AO N EY K SIL OW IH T IH JH JH OW SIL B AO HH OW N SIL K OW R EY SIL EY SIL B IH D D AA L AO Y T IH\n",
      " \n",
      "Bangla3: কিন্তু এখানকার ছাত্রী ও শিক্ষক-শিক্ষিকাদের সম্মুখীন হতে হচ্ছে বহুবিধ সমস্যার\n",
      "Sphinx3: SIL HH EA T L IY HH AE L NG Z UNK L Z HH EA UNK EH M SIL M HH AA DH EY IY Z HH T UH D HH V HH EA K N UA Z AE G IH T IY D SH HH M DH M IH UW UNK EH IY EA L HH SIL UA HH\n",
      "CMUBET3: K IH N T UW SIL EY K AA N K AA R SIL AA T T R IH SIL OW SIL SH IH K K AO K SIL SH IH K K IH K AA D EY R SIL SH AO M M UW K IH N SIL HH OW T EY SIL HH OW EY SIL B OW HH UW B IH D OW SIL SH AO M OW SH SH AA R\n",
      " \n",
      "Bangla4: পাশ্বর্বর্তী বিভিন্ন গ্রাম ও দূরদূরান্ত থেকে ভালো শিক্ষার আশায় এখানে পড়তে আসছে শিক্ষার্থীরা\n",
      "Sphinx4: SIL T UW K EA L N IY UNK DH AA HH G NG T NG L JH M UA T IY K IY IH NG L Z EY CH HH AA HH AA Z NG SIL L UW HH AA T SIL AX HH EA L HH AE AE SIL HH S M IY K S UNK HH AH SIL HH TH AE UNK HH AA SIL UNK\n",
      "CMUBET4: P AA R SH OW B OW R T IH SIL B IH B IH N N OW SIL R AA M SIL OW SIL D UW R D UW R AA N T OW SIL T EY K EY SIL B AA L OW SIL SH IH K K AA R SIL AA SH AA Y SIL EY K AA N EY SIL P OW DX T EY SIL AA SH EY SIL SH IH K K AA R T IH R AA\n",
      " \n",
      "Bangla5: কিন্তু তারপরও শিক্ষার্থীরা এখানে পাচ্ছে না যথাযথ শিক্ষা\n",
      "Sphinx5: SIL HH T L CH T K K UNK HH AE IY Z HH K UNK T HH NG UNK T D SH HH AH Z UA L HH D L HH L TH EY N HH AA DH SIL Z\n",
      "CMUBET5: K IH N T UW SIL T AA R P AO R OW SIL SH IH K K AA R T IH R AA SIL EY K AA N EY SIL P AA EY SIL N AA SIL JH AO T AA JH AO T OW SIL SH IH K K AA\n",
      " \n",
      "Bangla6: এর প্রধান কারণ শিক্ষক-শিক্ষিকা সংকট\n",
      "Sphinx6: SIL HH TH IY EH M HH SIL SIL L Z HH TH L HH UW L Z UA SIL\n",
      "CMUBET6: EY R SIL P R OW D AA N SIL K AA R OW N SIL SH IH K K AO K SIL SH IH K K IH K AA SIL SH AO NG K AO T\n",
      " \n",
      "Bangla7: এক বছর ধরে এখানে নেই কোনো প্রধান শিক্ষক\n",
      "Sphinx7: SIL HH B SH OY IY G D EH IH IY AA SIL HH NG HH AA SIL CH M NG EY M Z EY EH EY NG HH AA S EH L S\n",
      "CMUBET7: AE K SIL B AO OW R SIL D AO R EY SIL EY K AA N EY SIL N EY IH SIL K OW N OW SIL P R OW D AA N SIL SH IH K K AO K\n",
      " \n",
      "Bangla8: ভারপ্রাপ্ত সিনিয়র শিক্ষক এই প্রতিষ্ঠানটি একা চালাতে হিমশিম খাচ্ছেন\n",
      "Sphinx8: SIL K TH L UNK SH HH TH HH HH AA SIL SIL UW L EA P S AA TH NG TH HH T SIL NG T HH Z HH TH D AE K D AA M SIL HH TH HH M Z AY L T SH HH Z\n",
      "CMUBET8: B AA R P R AA P T OW SIL S IH N IH Y OW R SIL SH IH K K AO K SIL EY IH SIL P R OW T IH SH T AA N T IH SIL AE K AA SIL AA L AA T EY SIL HH IH M SH IH M SIL K AA EY N\n",
      " \n",
      "Bangla9: সহকারী প্রধান শিক্ষক পদটি থাকা সত্ত্বেও এই প্রতিষ্ঠানে নেই কোনো সহকারী প্রধান শিক্ষক\n",
      "Sphinx9: SIL AE K UW IY UNK HH TH UH T IY HH TH HH Z HH T AA HH DH SIL EA UW T AH L Z HH TH UH K HH AY UNK HH T UH NG UH M UW HH IH IY Z UNK UH K EY OW HH AA S IH L Z\n",
      "CMUBET9: SH AO HH OW K AA R IH SIL P R OW D AA N SIL SH IH K K AO K SIL P AO D T IH SIL T AA K AA SIL SH AO T T EY OW SIL EY IH SIL P R OW T IH SH T AA N EY SIL N EY IH SIL K OW N OW SIL SH AO HH OW K AA R IH SIL P R OW D AA N SIL SH IH K K AO K\n",
      " \n",
      "Bangla10: দুবছর ধরে নেই কোনো করণিক\n",
      "Sphinx10: SIL DH EY M G UA EA IY D UW HH S UW Z HH UH HH S\n",
      "CMUBET10: D UW B AO OW R SIL D AO R EY SIL N EY IH SIL K OW N OW SIL K AO R OW N IH K\n",
      " \n"
     ]
    }
   ],
   "source": [
    "config1 = {\n",
    "    'hmm': os.path.join(model_path, 'en-in'),\n",
    "#     'lm': os.path.join(model_path, 'hindi.lm'),\n",
    "    'allphone': os.path.join(model_path, 'en-us-phone.lm.bin'),\n",
    "    'lw': 2.0,\n",
    "    'beam': 1e-50,\n",
    "    'pbeam': 1e-50\n",
    "}\n",
    "\n",
    "ps_usin = Pocketsphinx(**config1)\n",
    "for i in range(0,11):\n",
    "    ps_usin.decode(\n",
    "    audio_file=os.path.join(data_path, '100{:02d}{}'.format(i,'.wav')),\n",
    "    buffer_size=1024,\n",
    "    no_search=False,\n",
    "    full_utt=False\n",
    "    )\n",
    "    \n",
    "    print('Bangla{}: {}'.format(i,bangla[i]))\n",
    "    print('Sphinx{}: {}'.format(i,ps_usin.hypothesis().upper()))\n",
    "    print('CMUBET{}: {}'.format(i,cmubet[i]))\n",
    "    print(' ')"
   ]
  },
  {
   "cell_type": "markdown",
   "metadata": {},
   "source": [
    "### Hindi HMM and LM"
   ]
  },
  {
   "cell_type": "code",
   "execution_count": 59,
   "metadata": {
    "scrolled": true
   },
   "outputs": [
    {
     "name": "stdout",
     "output_type": "stream",
     "text": [
      "Bangla0: স্কুলটির দিকে দৃষ্টি দিন\n",
      "Sphinx0: SIL NJ~\n",
      "CMUBET0: S K UW L T IH R SIL D IH K EY SIL D R IH SH T IH SIL D IH N\n",
      " \n",
      "Bangla1: পিরোজপুর জেলার কাউখালী বন্দরে একটি মাত্র বালিকা বিদ্যালয় আছে, যা এসবি সরকারি উচ্চবালিকা বিদ্যালয় নামে পরিচিত\n",
      "Sphinx1: SIL T: AA K ND~ SH AI T: I G T:H H U A K A UU G Y U AA BH UU G I DH U K AU H AI P T:H AA TH PH AI TH H N L A II GH U OO H A A GH AA AI T:H A U ND~ A T: SH H A SIL T: SH OO M A T:H AA SH KH TH AA H AI I UU R G Y OO GH H AI L M A T: SH EI D U U AI A GH AI T:H U ND~ U P OO U H N: T: N UU T:H A T: T:H AI T: K II G T:H AI A A\n",
      "CMUBET1: P IH R OW JH P UW R SIL JH EY L AA R SIL K AA UW K AA L IH SIL B AO N D AO R EY SIL EY K T IH SIL M AA T T R OW SIL B AA L IH K AA SIL B IH D D AA L AO Y SIL AA EY SIL JH AA SIL EY S B IH SIL SH AO R K AA R IH SIL UW OW B AA L IH K AA SIL B IH D D AA L AO Y SIL N AA M EY SIL P OW R IH IH T OW\n",
      " \n",
      "Bangla2: অনেক ঐতিহ্য বহন করছে এ বিদ্যালয়টি\n",
      "Sphinx2: SIL L U ND~ N H AI U D~ AA T:H H A T: SH H: I G UU II UU U A K II UU T:H H AI T:H AA AI TH AA A A U ND~ N: T:H AA K H A A\n",
      "CMUBET2: AO N EY K SIL OW IH T IH JH JH OW SIL B AO HH OW N SIL K OW R EY SIL EY SIL B IH D D AA L AO Y T IH\n",
      " \n",
      "Bangla3: কিন্তু এখানকার ছাত্রী ও শিক্ষক-শিক্ষিকাদের সম্মুখীন হতে হচ্ছে বহুবিধ সমস্যার\n",
      "Sphinx3: SIL T:H AA AI T:H L GH T:H P AA H EI H AI AI OO DH L D A T: Y L D: A UU H T:H A T: L AI H AA SIL T: H R L B H AA AA KH H N: A OO T: AA N: T: AI L N II D H K Y N II D: EI I G SH H AA K AI DH UU L II GH AA TH AI I H AI UU D: L U T:H Y AI A K P\n",
      "CMUBET3: K IH N T UW SIL EY K AA N K AA R SIL AA T T R IH SIL OW SIL SH IH K K AO K SIL SH IH K K IH K AA D EY R SIL SH AO M M UW K IH N SIL HH OW T EY SIL HH OW EY SIL B OW HH UW B IH D OW SIL SH AO M OW SH SH AA R\n",
      " \n",
      "Bangla4: পাশ্বর্বর্তী বিভিন্ন গ্রাম ও দূরদূরান্ত থেকে ভালো শিক্ষার আশায় এখানে পড়তে আসছে শিক্ষার্থীরা\n",
      "Sphinx4: SIL T UU A KH AI L BH II L K AI AI H AI AA TH H N: H II A I OO L M J L M AI KH I L I AI T:H EI R UU L A K L AI T: H TH AA H N: U D Y U L EI AA AA A AI H OO D OO T T: OO AA AI H H A T:H AA N: DH AI H AA AI T L T:H AI T: H SH KH AA SIL A T: KH AU N: TH H U TH A A T: H TH U OO M A A A\n",
      "CMUBET4: P AA R SH OW B OW R T IH SIL B IH B IH N N OW SIL R AA M SIL OW SIL D UW R D UW R AA N T OW SIL T EY K EY SIL B AA L OW SIL SH IH K K AA R SIL AA SH AA Y SIL EY K AA N EY SIL P OW DX T EY SIL AA SH EY SIL SH IH K K AA R T IH R AA\n",
      " \n",
      "Bangla5: কিন্তু তারপরও শিক্ষার্থীরা এখানে পাচ্ছে না যথাযথ শিক্ষা\n",
      "Sphinx5: SIL T:H AA H T:H L M II GH A T:H Y D~ U EI D L UU L AA H A TH H Y DH H AA KH AU H A T: AA H GH AA T Y A K T: SH H AA A OO L A T: O- U A D: R EI OO D~ T:H U AI T: AI L M D: AI AI H AA AI T: H U N DH T A AI A\n",
      "CMUBET5: K IH N T UW SIL T AA R P AO R OW SIL SH IH K K AA R T IH R AA SIL EY K AA N EY SIL P AA EY SIL N AA SIL JH AO T AA JH AO T OW SIL SH IH K K AA\n",
      " \n",
      "Bangla6: এর প্রধান কারণ শিক্ষক-শিক্ষিকা সংকট\n",
      "Sphinx6: SIL AA KH AI T: EI T: SHH Y L T:H T: U TH U A T: T: H AA H K AI I UU N: GH AI P AI H AA N: K H AI KH OO AI K UU A M OO AI P T:H AI\n",
      "CMUBET6: EY R SIL P R OW D AA N SIL K AA R OW N SIL SH IH K K AO K SIL SH IH K K IH K AA SIL SH AO NG K AO T\n",
      " \n",
      "Bangla7: এক বছর ধরে এখানে নেই কোনো প্রধান শিক্ষক\n",
      "Sphinx7: SIL P AA N: GH I L SH Y AI T: EI U N: AA AI T: H H EI UU AA H AA H A L M U N U UU A T: UU T: EI U D: H AA AI T: Y I UU AI P AI\n",
      "CMUBET7: AE K SIL B AO OW R SIL D AO R EY SIL EY K AA N EY SIL N EY IH SIL K OW N OW SIL P R OW D AA N SIL SH IH K K AO K\n",
      " \n",
      "Bangla8: ভারপ্রাপ্ত সিনিয়র শিক্ষক এই প্রতিষ্ঠানটি একা চালাতে হিমশিম খাচ্ছেন\n",
      "Sphinx8: SIL U T:H EI D~ EI I D A GH OO D: A K EI N: II AI T: SH H AI H Y DH~ H AA AI K EI UU A SIL A S AA KH UU A T: H A T: H R OO A TH AA N: A T: P T:H AA DH AA A DH T: SH H ND~ AI TH AA H AI A PH OO H T:H U H A A H L A T: T: SH H AA AI\n",
      "CMUBET8: B AA R P R AA P T OW SIL S IH N IH Y OW R SIL SH IH K K AO K SIL EY IH SIL P R OW T IH SH T AA N T IH SIL AE K AA SIL AA L AA T EY SIL HH IH M SH IH M SIL K AA EY N\n",
      " \n",
      "Bangla9: সহকারী প্রধান শিক্ষক পদটি থাকা সত্ত্বেও এই প্রতিষ্ঠানে নেই কোনো সহকারী প্রধান শিক্ষক\n",
      "Sphinx9: SIL T:H Y UU L B R H EI G H AI Y U T: EI KH AA N: T: AI I GH L U A P T:H AA H AI A AI U A L KH AI L AI T:H AA OO N J AI AA AI TH UU TH O- H A T:H H U N H AA A A N U N OO UU M D: GH T:H Y L D: Y OO AA AI KH U T:H H U KH AA AI K A II UU AI AI A A\n",
      "CMUBET9: SH AO HH OW K AA R IH SIL P R OW D AA N SIL SH IH K K AO K SIL P AO D T IH SIL T AA K AA SIL SH AO T T EY OW SIL EY IH SIL P R OW T IH SH T AA N EY SIL N EY IH SIL K OW N OW SIL SH AO HH OW K AA R IH SIL P R OW D AA N SIL SH IH K K AO K\n",
      " \n",
      "Bangla10: দুবছর ধরে নেই কোনো করণিক\n",
      "Sphinx10: SIL T: EI II GH UU A G CHH II EI T: AI T:H H UU OO BH AA H AA H A AI U U A T N U N N: BH H AI AI\n",
      "CMUBET10: D UW B AO OW R SIL D AO R EY SIL N EY IH SIL K OW N OW SIL K AO R OW N IH K\n",
      " \n"
     ]
    }
   ],
   "source": [
    "config2 = {\n",
    "    'hmm': os.path.join(model_path, 'hindi'),\n",
    "    'lm': os.path.join(model_path, 'hindi.lm'),\n",
    "    'allphone': os.path.join(model_path, 'en-us-phone.lm.bin'),\n",
    "    'lw': 2.0,\n",
    "    'beam': 1e-50,\n",
    "    'pbeam': 1e-50\n",
    "}\n",
    "\n",
    "ps_hin = Pocketsphinx(**config2)\n",
    "for i in range(0,11):\n",
    "    ps_hin.decode(\n",
    "    audio_file=os.path.join(data_path, '100{:02d}{}'.format(i,'.wav')),\n",
    "    buffer_size=1024,\n",
    "    no_search=False,\n",
    "    full_utt=False\n",
    "    )\n",
    "    \n",
    "    print('Bangla{}: {}'.format(i,bangla[i]))\n",
    "    print('Sphinx{}: {}'.format(i,ps_hin.hypothesis().upper()))\n",
    "    print('CMUBET{}: {}'.format(i,cmubet[i]))\n",
    "    print(' ')"
   ]
  }
 ],
 "metadata": {
  "kernelspec": {
   "display_name": "Python 3",
   "language": "python",
   "name": "python3"
  },
  "language_info": {
   "codemirror_mode": {
    "name": "ipython",
    "version": 3
   },
   "file_extension": ".py",
   "mimetype": "text/x-python",
   "name": "python",
   "nbconvert_exporter": "python",
   "pygments_lexer": "ipython3",
   "version": "3.6.8"
  }
 },
 "nbformat": 4,
 "nbformat_minor": 2
}
